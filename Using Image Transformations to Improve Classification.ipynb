{
  "nbformat": 4,
  "nbformat_minor": 0,
  "metadata": {
    "colab": {
      "name": "CS410 - HW3",
      "version": "0.3.2",
      "provenance": [],
      "collapsed_sections": []
    },
    "kernelspec": {
      "name": "python3",
      "display_name": "Python 3"
    },
    "accelerator": "GPU"
  },
  "cells": [
    {
      "cell_type": "markdown",
      "metadata": {
        "id": "5UIkX3_3_N4U",
        "colab_type": "text"
      },
      "source": [
        "#Using Image Transformations to Improve Classification\n",
        "##Brady Young"
      ]
    },
    {
      "cell_type": "markdown",
      "metadata": {
        "id": "Oh6-_oqlL3HZ",
        "colab_type": "text"
      },
      "source": [
        "##Modules"
      ]
    },
    {
      "cell_type": "code",
      "metadata": {
        "id": "uXe2UJ0rJpMb",
        "colab_type": "code",
        "outputId": "8c8f564d-0837-4943-a367-f8d201f088aa",
        "colab": {
          "base_uri": "https://localhost:8080/",
          "height": 33
        }
      },
      "source": [
        "import keras\n",
        "from keras.models import Sequential\n",
        "from keras.utils import np_utils\n",
        "from keras.preprocessing.image import ImageDataGenerator\n",
        "from keras.layers import Dense, Activation, Flatten, Dropout, BatchNormalization\n",
        "from keras.layers import Conv2D, MaxPooling2D\n",
        "from keras.datasets import cifar10\n",
        "from keras import regularizers\n",
        "from keras.callbacks import LearningRateScheduler\n",
        "import numpy as np\n",
        "import math"
      ],
      "execution_count": 0,
      "outputs": [
        {
          "output_type": "stream",
          "text": [
            "Using TensorFlow backend.\n"
          ],
          "name": "stderr"
        }
      ]
    },
    {
      "cell_type": "markdown",
      "metadata": {
        "id": "jittSP9CMvui",
        "colab_type": "text"
      },
      "source": [
        "##Parameters"
      ]
    },
    {
      "cell_type": "code",
      "metadata": {
        "id": "AxwiVxglMyxD",
        "colab_type": "code",
        "colab": {}
      },
      "source": [
        "batch_size = 128\n",
        "num_classes = 10\n",
        "epochs = 20"
      ],
      "execution_count": 0,
      "outputs": []
    },
    {
      "cell_type": "markdown",
      "metadata": {
        "id": "ll7sLNw6LgxQ",
        "colab_type": "text"
      },
      "source": [
        "##Data Preperation"
      ]
    },
    {
      "cell_type": "code",
      "metadata": {
        "id": "PnqQjPP-LiC0",
        "colab_type": "code",
        "outputId": "9e0d0b22-1e39-44c7-fa3b-1603e0765661",
        "colab": {
          "base_uri": "https://localhost:8080/",
          "height": 50
        }
      },
      "source": [
        "(x_train, y_train), (x_test, y_test) = cifar10.load_data()\n",
        "\n",
        "x_train = x_train.astype('float32')\n",
        "x_test = x_test.astype('float32')\n",
        "x_train /= 255\n",
        "x_test /= 255\n",
        "y_train = np_utils.to_categorical(y_train, num_classes)\n",
        "y_test = np_utils.to_categorical(y_test, num_classes)"
      ],
      "execution_count": 0,
      "outputs": [
        {
          "output_type": "stream",
          "text": [
            "Downloading data from https://www.cs.toronto.edu/~kriz/cifar-10-python.tar.gz\n",
            "170500096/170498071 [==============================] - 23s 0us/step\n"
          ],
          "name": "stdout"
        }
      ]
    },
    {
      "cell_type": "markdown",
      "metadata": {
        "id": "HGAWG5kNMTpt",
        "colab_type": "text"
      },
      "source": [
        "##Model"
      ]
    },
    {
      "cell_type": "code",
      "metadata": {
        "id": "4TUmsQwxMTIm",
        "colab_type": "code",
        "colab": {}
      },
      "source": [
        "def create_model(model_name=None):\n",
        "  model = Sequential()\n",
        "  \n",
        "  model.add(Conv2D(32, (3, 3), padding='same',\n",
        "                   input_shape=x_train.shape[1:]))\n",
        "  model.add(Activation('relu'))\n",
        "  \n",
        "  model.add(Conv2D(32, (3, 3)))\n",
        "  model.add(Activation('relu'))\n",
        "  model.add(MaxPooling2D(pool_size=(2, 2)))\n",
        "  \n",
        "  model.add(Dropout(0.25))\n",
        "\n",
        "  model.add(Conv2D(64, (3, 3), padding='same'))\n",
        "  model.add(Activation('relu'))\n",
        "\n",
        "  model.add(Conv2D(64, (3, 3)))\n",
        "  model.add(Activation('relu'))\n",
        "  model.add(MaxPooling2D(pool_size=(2, 2)))\n",
        "  \n",
        "  model.add(Dropout(0.25))\n",
        "\n",
        "  #Added layers\n",
        "  if model_name is not None:\n",
        "    model.add(Conv2D(32, (3, 3)))\n",
        "    model.add(Activation('relu'))\n",
        "    model.add(MaxPooling2D(pool_size=(2, 2)))\n",
        "    \n",
        "  model.add(Flatten())\n",
        "  model.add(Dense(512))\n",
        "  model.add(Activation('relu'))\n",
        "  model.add(Dropout(0.5))\n",
        "  model.add(Dense(num_classes))\n",
        "  model.add(Activation('softmax'))\n",
        "  model.compile(loss='mean_squared_error', optimizer='adam', metrics=['accuracy'])\n",
        "  model.summary()\n",
        "  return model"
      ],
      "execution_count": 0,
      "outputs": []
    },
    {
      "cell_type": "markdown",
      "metadata": {
        "id": "2n7E4tCaN2aC",
        "colab_type": "text"
      },
      "source": [
        "##Standard Model"
      ]
    },
    {
      "cell_type": "code",
      "metadata": {
        "id": "9YXNhWH-N3Z8",
        "colab_type": "code",
        "outputId": "6a0ff202-9b93-4fd4-c6b3-58e08bd8dac3",
        "colab": {
          "base_uri": "https://localhost:8080/",
          "height": 1528
        }
      },
      "source": [
        "model = create_model()\n",
        "history = model.fit(\n",
        "      x_train,\n",
        "      y_train,\n",
        "      batch_size=batch_size,\n",
        "      epochs=epochs,\n",
        "      validation_data=(x_test, y_test),\n",
        "      shuffle=True)"
      ],
      "execution_count": 0,
      "outputs": [
        {
          "output_type": "stream",
          "text": [
            "WARNING:tensorflow:From /usr/local/lib/python3.6/dist-packages/tensorflow/python/framework/op_def_library.py:263: colocate_with (from tensorflow.python.framework.ops) is deprecated and will be removed in a future version.\n",
            "Instructions for updating:\n",
            "Colocations handled automatically by placer.\n",
            "WARNING:tensorflow:From /usr/local/lib/python3.6/dist-packages/keras/backend/tensorflow_backend.py:3445: calling dropout (from tensorflow.python.ops.nn_ops) with keep_prob is deprecated and will be removed in a future version.\n",
            "Instructions for updating:\n",
            "Please use `rate` instead of `keep_prob`. Rate should be set to `rate = 1 - keep_prob`.\n",
            "_________________________________________________________________\n",
            "Layer (type)                 Output Shape              Param #   \n",
            "=================================================================\n",
            "conv2d_1 (Conv2D)            (None, 32, 32, 32)        896       \n",
            "_________________________________________________________________\n",
            "activation_1 (Activation)    (None, 32, 32, 32)        0         \n",
            "_________________________________________________________________\n",
            "conv2d_2 (Conv2D)            (None, 30, 30, 32)        9248      \n",
            "_________________________________________________________________\n",
            "activation_2 (Activation)    (None, 30, 30, 32)        0         \n",
            "_________________________________________________________________\n",
            "max_pooling2d_1 (MaxPooling2 (None, 15, 15, 32)        0         \n",
            "_________________________________________________________________\n",
            "dropout_1 (Dropout)          (None, 15, 15, 32)        0         \n",
            "_________________________________________________________________\n",
            "conv2d_3 (Conv2D)            (None, 15, 15, 64)        18496     \n",
            "_________________________________________________________________\n",
            "activation_3 (Activation)    (None, 15, 15, 64)        0         \n",
            "_________________________________________________________________\n",
            "conv2d_4 (Conv2D)            (None, 13, 13, 64)        36928     \n",
            "_________________________________________________________________\n",
            "activation_4 (Activation)    (None, 13, 13, 64)        0         \n",
            "_________________________________________________________________\n",
            "max_pooling2d_2 (MaxPooling2 (None, 6, 6, 64)          0         \n",
            "_________________________________________________________________\n",
            "dropout_2 (Dropout)          (None, 6, 6, 64)          0         \n",
            "_________________________________________________________________\n",
            "flatten_1 (Flatten)          (None, 2304)              0         \n",
            "_________________________________________________________________\n",
            "dense_1 (Dense)              (None, 512)               1180160   \n",
            "_________________________________________________________________\n",
            "activation_5 (Activation)    (None, 512)               0         \n",
            "_________________________________________________________________\n",
            "dropout_3 (Dropout)          (None, 512)               0         \n",
            "_________________________________________________________________\n",
            "dense_2 (Dense)              (None, 10)                5130      \n",
            "_________________________________________________________________\n",
            "activation_6 (Activation)    (None, 10)                0         \n",
            "=================================================================\n",
            "Total params: 1,250,858\n",
            "Trainable params: 1,250,858\n",
            "Non-trainable params: 0\n",
            "_________________________________________________________________\n",
            "WARNING:tensorflow:From /usr/local/lib/python3.6/dist-packages/tensorflow/python/ops/math_ops.py:3066: to_int32 (from tensorflow.python.ops.math_ops) is deprecated and will be removed in a future version.\n",
            "Instructions for updating:\n",
            "Use tf.cast instead.\n",
            "Train on 50000 samples, validate on 10000 samples\n",
            "Epoch 1/20\n",
            "50000/50000 [==============================] - 18s 358us/step - loss: 0.0736 - acc: 0.3851 - val_loss: 0.0615 - val_acc: 0.5200\n",
            "Epoch 2/20\n",
            "50000/50000 [==============================] - 12s 246us/step - loss: 0.0581 - acc: 0.5497 - val_loss: 0.0497 - val_acc: 0.6279\n",
            "Epoch 3/20\n",
            "50000/50000 [==============================] - 12s 245us/step - loss: 0.0497 - acc: 0.6278 - val_loss: 0.0433 - val_acc: 0.6823\n",
            "Epoch 4/20\n",
            "50000/50000 [==============================] - 12s 244us/step - loss: 0.0451 - acc: 0.6658 - val_loss: 0.0420 - val_acc: 0.6960\n",
            "Epoch 5/20\n",
            "50000/50000 [==============================] - 12s 245us/step - loss: 0.0416 - acc: 0.6949 - val_loss: 0.0381 - val_acc: 0.7236\n",
            "Epoch 6/20\n",
            "50000/50000 [==============================] - 12s 243us/step - loss: 0.0390 - acc: 0.7167 - val_loss: 0.0386 - val_acc: 0.7180\n",
            "Epoch 7/20\n",
            "50000/50000 [==============================] - 12s 242us/step - loss: 0.0370 - acc: 0.7316 - val_loss: 0.0348 - val_acc: 0.7468\n",
            "Epoch 8/20\n",
            "50000/50000 [==============================] - 12s 247us/step - loss: 0.0352 - acc: 0.7474 - val_loss: 0.0351 - val_acc: 0.7485\n",
            "Epoch 9/20\n",
            "50000/50000 [==============================] - 12s 245us/step - loss: 0.0337 - acc: 0.7577 - val_loss: 0.0329 - val_acc: 0.7639\n",
            "Epoch 10/20\n",
            "50000/50000 [==============================] - 12s 245us/step - loss: 0.0321 - acc: 0.7706 - val_loss: 0.0332 - val_acc: 0.7628\n",
            "Epoch 11/20\n",
            "50000/50000 [==============================] - 12s 246us/step - loss: 0.0316 - acc: 0.7756 - val_loss: 0.0322 - val_acc: 0.7706\n",
            "Epoch 12/20\n",
            "50000/50000 [==============================] - 12s 246us/step - loss: 0.0303 - acc: 0.7867 - val_loss: 0.0316 - val_acc: 0.7746\n",
            "Epoch 13/20\n",
            "50000/50000 [==============================] - 12s 246us/step - loss: 0.0295 - acc: 0.7914 - val_loss: 0.0307 - val_acc: 0.7815\n",
            "Epoch 14/20\n",
            "50000/50000 [==============================] - 12s 244us/step - loss: 0.0285 - acc: 0.7979 - val_loss: 0.0317 - val_acc: 0.7736\n",
            "Epoch 15/20\n",
            "50000/50000 [==============================] - 12s 245us/step - loss: 0.0278 - acc: 0.8047 - val_loss: 0.0313 - val_acc: 0.7760\n",
            "Epoch 16/20\n",
            "50000/50000 [==============================] - 12s 245us/step - loss: 0.0269 - acc: 0.8119 - val_loss: 0.0300 - val_acc: 0.7875\n",
            "Epoch 17/20\n",
            "50000/50000 [==============================] - 12s 244us/step - loss: 0.0265 - acc: 0.8142 - val_loss: 0.0303 - val_acc: 0.7833\n",
            "Epoch 18/20\n",
            "50000/50000 [==============================] - 12s 247us/step - loss: 0.0258 - acc: 0.8204 - val_loss: 0.0297 - val_acc: 0.7906\n",
            "Epoch 19/20\n",
            "50000/50000 [==============================] - 12s 245us/step - loss: 0.0251 - acc: 0.8263 - val_loss: 0.0299 - val_acc: 0.7924\n",
            "Epoch 20/20\n",
            "50000/50000 [==============================] - 12s 245us/step - loss: 0.0247 - acc: 0.8285 - val_loss: 0.0295 - val_acc: 0.7924\n"
          ],
          "name": "stdout"
        }
      ]
    },
    {
      "cell_type": "markdown",
      "metadata": {
        "id": "_PqsoEaoVwa2",
        "colab_type": "text"
      },
      "source": [
        "##Added Layers"
      ]
    },
    {
      "cell_type": "code",
      "metadata": {
        "id": "6tabm75UV0pQ",
        "colab_type": "code",
        "outputId": "8dec30ab-82a1-437a-cbcc-141c674a1880",
        "colab": {
          "base_uri": "https://localhost:8080/",
          "height": 1480
        }
      },
      "source": [
        "model = create_model(\"Adding a conv2D layer and a pooling layer\")\n",
        "history_add = model.fit(\n",
        "      x_train,\n",
        "      y_train,\n",
        "      batch_size=batch_size,\n",
        "      epochs=epochs,\n",
        "      validation_data=(x_test, y_test),\n",
        "      shuffle=True)"
      ],
      "execution_count": 0,
      "outputs": [
        {
          "output_type": "stream",
          "text": [
            "_________________________________________________________________\n",
            "Layer (type)                 Output Shape              Param #   \n",
            "=================================================================\n",
            "conv2d_20 (Conv2D)           (None, 32, 32, 32)        896       \n",
            "_________________________________________________________________\n",
            "activation_28 (Activation)   (None, 32, 32, 32)        0         \n",
            "_________________________________________________________________\n",
            "conv2d_21 (Conv2D)           (None, 30, 30, 32)        9248      \n",
            "_________________________________________________________________\n",
            "activation_29 (Activation)   (None, 30, 30, 32)        0         \n",
            "_________________________________________________________________\n",
            "max_pooling2d_12 (MaxPooling (None, 15, 15, 32)        0         \n",
            "_________________________________________________________________\n",
            "dropout_13 (Dropout)         (None, 15, 15, 32)        0         \n",
            "_________________________________________________________________\n",
            "conv2d_22 (Conv2D)           (None, 15, 15, 64)        18496     \n",
            "_________________________________________________________________\n",
            "activation_30 (Activation)   (None, 15, 15, 64)        0         \n",
            "_________________________________________________________________\n",
            "conv2d_23 (Conv2D)           (None, 13, 13, 64)        36928     \n",
            "_________________________________________________________________\n",
            "activation_31 (Activation)   (None, 13, 13, 64)        0         \n",
            "_________________________________________________________________\n",
            "max_pooling2d_13 (MaxPooling (None, 6, 6, 64)          0         \n",
            "_________________________________________________________________\n",
            "dropout_14 (Dropout)         (None, 6, 6, 64)          0         \n",
            "_________________________________________________________________\n",
            "conv2d_24 (Conv2D)           (None, 4, 4, 32)          18464     \n",
            "_________________________________________________________________\n",
            "activation_32 (Activation)   (None, 4, 4, 32)          0         \n",
            "_________________________________________________________________\n",
            "max_pooling2d_14 (MaxPooling (None, 2, 2, 32)          0         \n",
            "_________________________________________________________________\n",
            "flatten_5 (Flatten)          (None, 128)               0         \n",
            "_________________________________________________________________\n",
            "dense_9 (Dense)              (None, 512)               66048     \n",
            "_________________________________________________________________\n",
            "activation_33 (Activation)   (None, 512)               0         \n",
            "_________________________________________________________________\n",
            "dropout_15 (Dropout)         (None, 512)               0         \n",
            "_________________________________________________________________\n",
            "dense_10 (Dense)             (None, 10)                5130      \n",
            "_________________________________________________________________\n",
            "activation_34 (Activation)   (None, 10)                0         \n",
            "=================================================================\n",
            "Total params: 155,210\n",
            "Trainable params: 155,210\n",
            "Non-trainable params: 0\n",
            "_________________________________________________________________\n",
            "Train on 50000 samples, validate on 10000 samples\n",
            "Epoch 1/20\n",
            "50000/50000 [==============================] - 14s 288us/step - loss: 0.0774 - acc: 0.3275 - val_loss: 0.0664 - val_acc: 0.4627\n",
            "Epoch 2/20\n",
            "50000/50000 [==============================] - 13s 251us/step - loss: 0.0625 - acc: 0.5070 - val_loss: 0.0552 - val_acc: 0.5794\n",
            "Epoch 3/20\n",
            "50000/50000 [==============================] - 12s 246us/step - loss: 0.0555 - acc: 0.5740 - val_loss: 0.0503 - val_acc: 0.6174\n",
            "Epoch 4/20\n",
            "50000/50000 [==============================] - 12s 246us/step - loss: 0.0511 - acc: 0.6114 - val_loss: 0.0477 - val_acc: 0.6394\n",
            "Epoch 5/20\n",
            "50000/50000 [==============================] - 12s 246us/step - loss: 0.0480 - acc: 0.6406 - val_loss: 0.0440 - val_acc: 0.6750\n",
            "Epoch 6/20\n",
            "50000/50000 [==============================] - 12s 246us/step - loss: 0.0451 - acc: 0.6621 - val_loss: 0.0412 - val_acc: 0.6977\n",
            "Epoch 7/20\n",
            "50000/50000 [==============================] - 12s 247us/step - loss: 0.0428 - acc: 0.6823 - val_loss: 0.0409 - val_acc: 0.7019\n",
            "Epoch 8/20\n",
            "50000/50000 [==============================] - 12s 247us/step - loss: 0.0413 - acc: 0.6945 - val_loss: 0.0381 - val_acc: 0.7245\n",
            "Epoch 9/20\n",
            "50000/50000 [==============================] - 12s 246us/step - loss: 0.0395 - acc: 0.7100 - val_loss: 0.0372 - val_acc: 0.7271\n",
            "Epoch 10/20\n",
            "50000/50000 [==============================] - 12s 246us/step - loss: 0.0385 - acc: 0.7176 - val_loss: 0.0374 - val_acc: 0.7285\n",
            "Epoch 11/20\n",
            "50000/50000 [==============================] - 12s 247us/step - loss: 0.0372 - acc: 0.7310 - val_loss: 0.0361 - val_acc: 0.7347\n",
            "Epoch 12/20\n",
            "50000/50000 [==============================] - 12s 246us/step - loss: 0.0359 - acc: 0.7403 - val_loss: 0.0360 - val_acc: 0.7403\n",
            "Epoch 13/20\n",
            "50000/50000 [==============================] - 12s 248us/step - loss: 0.0353 - acc: 0.7452 - val_loss: 0.0346 - val_acc: 0.7509\n",
            "Epoch 14/20\n",
            "50000/50000 [==============================] - 12s 247us/step - loss: 0.0343 - acc: 0.7525 - val_loss: 0.0337 - val_acc: 0.7578\n",
            "Epoch 15/20\n",
            "50000/50000 [==============================] - 12s 246us/step - loss: 0.0339 - acc: 0.7570 - val_loss: 0.0335 - val_acc: 0.7596\n",
            "Epoch 16/20\n",
            "50000/50000 [==============================] - 12s 247us/step - loss: 0.0334 - acc: 0.7620 - val_loss: 0.0324 - val_acc: 0.7725\n",
            "Epoch 17/20\n",
            "50000/50000 [==============================] - 12s 247us/step - loss: 0.0327 - acc: 0.7652 - val_loss: 0.0322 - val_acc: 0.7696\n",
            "Epoch 18/20\n",
            "50000/50000 [==============================] - 12s 245us/step - loss: 0.0323 - acc: 0.7689 - val_loss: 0.0322 - val_acc: 0.7729\n",
            "Epoch 19/20\n",
            "50000/50000 [==============================] - 12s 246us/step - loss: 0.0317 - acc: 0.7742 - val_loss: 0.0311 - val_acc: 0.7826\n",
            "Epoch 20/20\n",
            "50000/50000 [==============================] - 12s 247us/step - loss: 0.0310 - acc: 0.7784 - val_loss: 0.0318 - val_acc: 0.7764\n"
          ],
          "name": "stdout"
        }
      ]
    },
    {
      "cell_type": "markdown",
      "metadata": {
        "id": "oMxYOtHaQ-mS",
        "colab_type": "text"
      },
      "source": [
        "##Model with Image Transformations"
      ]
    },
    {
      "cell_type": "code",
      "metadata": {
        "id": "sKef7tobN5tk",
        "colab_type": "code",
        "outputId": "29f8454c-110a-4ec3-f517-a3bb1b5cb3b1",
        "colab": {
          "base_uri": "https://localhost:8080/",
          "height": 1366
        }
      },
      "source": [
        "model = create_model()\n",
        "datagen = ImageDataGenerator(\n",
        "    featurewise_center=False,  # set input mean to 0 over the dataset\n",
        "    samplewise_center=False,  # set each sample mean to 0\n",
        "    featurewise_std_normalization=False,  # divide inputs by std of the dataset\n",
        "    samplewise_std_normalization=False,  # divide each input by its std\n",
        "    zca_whitening=False,  # apply ZCA whitening\n",
        "    rotation_range=0,  # randomly rotate images in the range (degrees, 0 to 180)\n",
        "    width_shift_range=0.1,  # randomly shift images horizontally (fraction of total width)\n",
        "    height_shift_range=0.1,  # randomly shift images vertically (fraction of total height)\n",
        "    horizontal_flip=True,  # randomly flip images\n",
        "    vertical_flip=False)  # randomly flip images\n",
        "\n",
        "datagen.fit(x_train)\n",
        "history_gen = model.fit_generator(datagen.flow(x_train, y_train,\n",
        "                                 batch_size=batch_size),\n",
        "                    steps_per_epoch=1250,\n",
        "                    epochs=epochs,\n",
        "                    validation_data=(x_test, y_test))\n"
      ],
      "execution_count": 0,
      "outputs": [
        {
          "output_type": "stream",
          "text": [
            "_________________________________________________________________\n",
            "Layer (type)                 Output Shape              Param #   \n",
            "=================================================================\n",
            "conv2d_85 (Conv2D)           (None, 32, 32, 32)        896       \n",
            "_________________________________________________________________\n",
            "activation_117 (Activation)  (None, 32, 32, 32)        0         \n",
            "_________________________________________________________________\n",
            "conv2d_86 (Conv2D)           (None, 30, 30, 32)        9248      \n",
            "_________________________________________________________________\n",
            "activation_118 (Activation)  (None, 30, 30, 32)        0         \n",
            "_________________________________________________________________\n",
            "max_pooling2d_49 (MaxPooling (None, 15, 15, 32)        0         \n",
            "_________________________________________________________________\n",
            "dropout_53 (Dropout)         (None, 15, 15, 32)        0         \n",
            "_________________________________________________________________\n",
            "conv2d_87 (Conv2D)           (None, 15, 15, 64)        18496     \n",
            "_________________________________________________________________\n",
            "activation_119 (Activation)  (None, 15, 15, 64)        0         \n",
            "_________________________________________________________________\n",
            "conv2d_88 (Conv2D)           (None, 13, 13, 64)        36928     \n",
            "_________________________________________________________________\n",
            "activation_120 (Activation)  (None, 13, 13, 64)        0         \n",
            "_________________________________________________________________\n",
            "max_pooling2d_50 (MaxPooling (None, 6, 6, 64)          0         \n",
            "_________________________________________________________________\n",
            "dropout_54 (Dropout)         (None, 6, 6, 64)          0         \n",
            "_________________________________________________________________\n",
            "flatten_18 (Flatten)         (None, 2304)              0         \n",
            "_________________________________________________________________\n",
            "dense_35 (Dense)             (None, 512)               1180160   \n",
            "_________________________________________________________________\n",
            "activation_121 (Activation)  (None, 512)               0         \n",
            "_________________________________________________________________\n",
            "dropout_55 (Dropout)         (None, 512)               0         \n",
            "_________________________________________________________________\n",
            "dense_36 (Dense)             (None, 10)                5130      \n",
            "_________________________________________________________________\n",
            "activation_122 (Activation)  (None, 10)                0         \n",
            "=================================================================\n",
            "Total params: 1,250,858\n",
            "Trainable params: 1,250,858\n",
            "Non-trainable params: 0\n",
            "_________________________________________________________________\n",
            "Epoch 1/20\n",
            "1250/1250 [==============================] - 68s 55ms/step - loss: 0.0648 - acc: 0.4792 - val_loss: 0.0469 - val_acc: 0.6464\n",
            "Epoch 2/20\n",
            "1250/1250 [==============================] - 68s 54ms/step - loss: 0.0491 - acc: 0.6301 - val_loss: 0.0380 - val_acc: 0.7222\n",
            "Epoch 3/20\n",
            "1250/1250 [==============================] - 68s 54ms/step - loss: 0.0431 - acc: 0.6825 - val_loss: 0.0362 - val_acc: 0.7416\n",
            "Epoch 4/20\n",
            "1250/1250 [==============================] - 68s 54ms/step - loss: 0.0402 - acc: 0.7067 - val_loss: 0.0325 - val_acc: 0.7680\n",
            "Epoch 5/20\n",
            "1250/1250 [==============================] - 67s 54ms/step - loss: 0.0381 - acc: 0.7230 - val_loss: 0.0329 - val_acc: 0.7656\n",
            "Epoch 6/20\n",
            "1250/1250 [==============================] - 67s 54ms/step - loss: 0.0366 - acc: 0.7357 - val_loss: 0.0321 - val_acc: 0.7695\n",
            "Epoch 7/20\n",
            "1250/1250 [==============================] - 69s 55ms/step - loss: 0.0354 - acc: 0.7441 - val_loss: 0.0292 - val_acc: 0.7977\n",
            "Epoch 8/20\n",
            "1250/1250 [==============================] - 68s 54ms/step - loss: 0.0343 - acc: 0.7543 - val_loss: 0.0292 - val_acc: 0.7957\n",
            "Epoch 9/20\n",
            "1250/1250 [==============================] - 68s 54ms/step - loss: 0.0336 - acc: 0.7590 - val_loss: 0.0285 - val_acc: 0.7992\n",
            "Epoch 10/20\n",
            "1250/1250 [==============================] - 68s 55ms/step - loss: 0.0329 - acc: 0.7648 - val_loss: 0.0293 - val_acc: 0.7957\n",
            "Epoch 11/20\n",
            "1250/1250 [==============================] - 69s 55ms/step - loss: 0.0324 - acc: 0.7686 - val_loss: 0.0284 - val_acc: 0.8001\n",
            "Epoch 12/20\n",
            "1250/1250 [==============================] - 67s 54ms/step - loss: 0.0316 - acc: 0.7751 - val_loss: 0.0279 - val_acc: 0.8040\n",
            "Epoch 13/20\n",
            "1250/1250 [==============================] - 69s 55ms/step - loss: 0.0312 - acc: 0.7790 - val_loss: 0.0279 - val_acc: 0.8046\n",
            "Epoch 14/20\n",
            "1250/1250 [==============================] - 68s 54ms/step - loss: 0.0309 - acc: 0.7807 - val_loss: 0.0273 - val_acc: 0.8062\n",
            "Epoch 15/20\n",
            "1250/1250 [==============================] - 67s 54ms/step - loss: 0.0305 - acc: 0.7840 - val_loss: 0.0269 - val_acc: 0.8131\n",
            "Epoch 16/20\n",
            "1250/1250 [==============================] - 69s 55ms/step - loss: 0.0301 - acc: 0.7875 - val_loss: 0.0257 - val_acc: 0.8185\n",
            "Epoch 17/20\n",
            "1250/1250 [==============================] - 67s 54ms/step - loss: 0.0299 - acc: 0.7884 - val_loss: 0.0257 - val_acc: 0.8187\n",
            "Epoch 18/20\n",
            "1250/1250 [==============================] - 66s 53ms/step - loss: 0.0298 - acc: 0.7889 - val_loss: 0.0262 - val_acc: 0.8191\n",
            "Epoch 19/20\n",
            "1250/1250 [==============================] - 68s 54ms/step - loss: 0.0293 - acc: 0.7929 - val_loss: 0.0281 - val_acc: 0.8060\n",
            "Epoch 20/20\n",
            "1250/1250 [==============================] - 70s 56ms/step - loss: 0.0291 - acc: 0.7939 - val_loss: 0.0264 - val_acc: 0.8138\n"
          ],
          "name": "stdout"
        }
      ]
    },
    {
      "cell_type": "markdown",
      "metadata": {
        "id": "GgtzbkpF-zA7",
        "colab_type": "text"
      },
      "source": [
        "##Image Transformation Model with Added Layers"
      ]
    },
    {
      "cell_type": "code",
      "metadata": {
        "id": "ydzS0CUV-2Ry",
        "colab_type": "code",
        "outputId": "b283866a-b46a-4344-8a3f-2783b85f14eb",
        "colab": {
          "base_uri": "https://localhost:8080/",
          "height": 1463
        }
      },
      "source": [
        "model = create_model(\"Adding a conv2D layer and a pooling layer\")\n",
        "datagen = ImageDataGenerator(\n",
        "    featurewise_center=False,  # set input mean to 0 over the dataset\n",
        "    samplewise_center=False,  # set each sample mean to 0\n",
        "    featurewise_std_normalization=False,  # divide inputs by std of the dataset\n",
        "    samplewise_std_normalization=False,  # divide each input by its std\n",
        "    zca_whitening=False,  # apply ZCA whitening\n",
        "    rotation_range=0,  # randomly rotate images in the range (degrees, 0 to 180)\n",
        "    width_shift_range=0.1,  # randomly shift images horizontally (fraction of total width)\n",
        "    height_shift_range=0.1,  # randomly shift images vertically (fraction of total height)\n",
        "    horizontal_flip=True,  # randomly flip images\n",
        "    vertical_flip=False)  # randomly flip images\n",
        "\n",
        "datagen.fit(x_train)\n",
        "history_gen_add = model.fit_generator(datagen.flow(x_train, y_train,\n",
        "                                 batch_size=batch_size),\n",
        "                    steps_per_epoch=1250,\n",
        "                    epochs=epochs,\n",
        "                    validation_data=(x_test, y_test))\n"
      ],
      "execution_count": 0,
      "outputs": [
        {
          "output_type": "stream",
          "text": [
            "_________________________________________________________________\n",
            "Layer (type)                 Output Shape              Param #   \n",
            "=================================================================\n",
            "conv2d_25 (Conv2D)           (None, 32, 32, 32)        896       \n",
            "_________________________________________________________________\n",
            "activation_35 (Activation)   (None, 32, 32, 32)        0         \n",
            "_________________________________________________________________\n",
            "conv2d_26 (Conv2D)           (None, 30, 30, 32)        9248      \n",
            "_________________________________________________________________\n",
            "activation_36 (Activation)   (None, 30, 30, 32)        0         \n",
            "_________________________________________________________________\n",
            "max_pooling2d_15 (MaxPooling (None, 15, 15, 32)        0         \n",
            "_________________________________________________________________\n",
            "dropout_16 (Dropout)         (None, 15, 15, 32)        0         \n",
            "_________________________________________________________________\n",
            "conv2d_27 (Conv2D)           (None, 15, 15, 64)        18496     \n",
            "_________________________________________________________________\n",
            "activation_37 (Activation)   (None, 15, 15, 64)        0         \n",
            "_________________________________________________________________\n",
            "conv2d_28 (Conv2D)           (None, 13, 13, 64)        36928     \n",
            "_________________________________________________________________\n",
            "activation_38 (Activation)   (None, 13, 13, 64)        0         \n",
            "_________________________________________________________________\n",
            "max_pooling2d_16 (MaxPooling (None, 6, 6, 64)          0         \n",
            "_________________________________________________________________\n",
            "dropout_17 (Dropout)         (None, 6, 6, 64)          0         \n",
            "_________________________________________________________________\n",
            "conv2d_29 (Conv2D)           (None, 4, 4, 32)          18464     \n",
            "_________________________________________________________________\n",
            "activation_39 (Activation)   (None, 4, 4, 32)          0         \n",
            "_________________________________________________________________\n",
            "max_pooling2d_17 (MaxPooling (None, 2, 2, 32)          0         \n",
            "_________________________________________________________________\n",
            "flatten_6 (Flatten)          (None, 128)               0         \n",
            "_________________________________________________________________\n",
            "dense_11 (Dense)             (None, 512)               66048     \n",
            "_________________________________________________________________\n",
            "activation_40 (Activation)   (None, 512)               0         \n",
            "_________________________________________________________________\n",
            "dropout_18 (Dropout)         (None, 512)               0         \n",
            "_________________________________________________________________\n",
            "dense_12 (Dense)             (None, 10)                5130      \n",
            "_________________________________________________________________\n",
            "activation_41 (Activation)   (None, 10)                0         \n",
            "=================================================================\n",
            "Total params: 155,210\n",
            "Trainable params: 155,210\n",
            "Non-trainable params: 0\n",
            "_________________________________________________________________\n",
            "Epoch 1/20\n",
            "1250/1250 [==============================] - 105s 84ms/step - loss: 0.0679 - acc: 0.4431 - val_loss: 0.0523 - val_acc: 0.6012\n",
            "Epoch 2/20\n",
            "1250/1250 [==============================] - 104s 83ms/step - loss: 0.0526 - acc: 0.5987 - val_loss: 0.0465 - val_acc: 0.6514\n",
            "Epoch 3/20\n",
            "1250/1250 [==============================] - 102s 82ms/step - loss: 0.0471 - acc: 0.6472 - val_loss: 0.0418 - val_acc: 0.6931\n",
            "Epoch 4/20\n",
            "1250/1250 [==============================] - 105s 84ms/step - loss: 0.0437 - acc: 0.6757 - val_loss: 0.0387 - val_acc: 0.7170\n",
            "Epoch 5/20\n",
            "1250/1250 [==============================] - 106s 85ms/step - loss: 0.0413 - acc: 0.6966 - val_loss: 0.0348 - val_acc: 0.7479\n",
            "Epoch 6/20\n",
            "1250/1250 [==============================] - 106s 84ms/step - loss: 0.0391 - acc: 0.7143 - val_loss: 0.0331 - val_acc: 0.7643\n",
            "Epoch 7/20\n",
            "1250/1250 [==============================] - 107s 85ms/step - loss: 0.0378 - acc: 0.7253 - val_loss: 0.0327 - val_acc: 0.7659\n",
            "Epoch 8/20\n",
            "1250/1250 [==============================] - 106s 85ms/step - loss: 0.0367 - acc: 0.7344 - val_loss: 0.0327 - val_acc: 0.7683\n",
            "Epoch 9/20\n",
            "1250/1250 [==============================] - 104s 83ms/step - loss: 0.0358 - acc: 0.7415 - val_loss: 0.0305 - val_acc: 0.7838\n",
            "Epoch 10/20\n",
            "1250/1250 [==============================] - 103s 82ms/step - loss: 0.0352 - acc: 0.7458 - val_loss: 0.0296 - val_acc: 0.7875\n",
            "Epoch 11/20\n",
            "1250/1250 [==============================] - 103s 83ms/step - loss: 0.0346 - acc: 0.7515 - val_loss: 0.0310 - val_acc: 0.7831\n",
            "Epoch 12/20\n",
            "1250/1250 [==============================] - 109s 87ms/step - loss: 0.0339 - acc: 0.7571 - val_loss: 0.0298 - val_acc: 0.7921\n",
            "Epoch 13/20\n",
            "1250/1250 [==============================] - 107s 85ms/step - loss: 0.0335 - acc: 0.7598 - val_loss: 0.0307 - val_acc: 0.7850\n",
            "Epoch 14/20\n",
            "1250/1250 [==============================] - 106s 85ms/step - loss: 0.0331 - acc: 0.7633 - val_loss: 0.0298 - val_acc: 0.7939\n",
            "Epoch 15/20\n",
            "1250/1250 [==============================] - 105s 84ms/step - loss: 0.0329 - acc: 0.7642 - val_loss: 0.0297 - val_acc: 0.7938\n",
            "Epoch 16/20\n",
            "1250/1250 [==============================] - 105s 84ms/step - loss: 0.0324 - acc: 0.7682 - val_loss: 0.0294 - val_acc: 0.7952\n",
            "Epoch 17/20\n",
            "1250/1250 [==============================] - 105s 84ms/step - loss: 0.0323 - acc: 0.7700 - val_loss: 0.0310 - val_acc: 0.7845\n",
            "Epoch 18/20\n",
            "1250/1250 [==============================] - 106s 85ms/step - loss: 0.0319 - acc: 0.7727 - val_loss: 0.0280 - val_acc: 0.8044\n",
            "Epoch 19/20\n",
            "1250/1250 [==============================] - 106s 85ms/step - loss: 0.0315 - acc: 0.7764 - val_loss: 0.0314 - val_acc: 0.7859\n",
            "Epoch 20/20\n",
            "1250/1250 [==============================] - 106s 85ms/step - loss: 0.0314 - acc: 0.7769 - val_loss: 0.0277 - val_acc: 0.8073\n"
          ],
          "name": "stdout"
        }
      ]
    },
    {
      "cell_type": "markdown",
      "metadata": {
        "id": "LklIGJQNQN6R",
        "colab_type": "text"
      },
      "source": [
        "##Plotting"
      ]
    },
    {
      "cell_type": "code",
      "metadata": {
        "id": "qhZI8NPDQOrQ",
        "colab_type": "code",
        "colab": {}
      },
      "source": [
        "import matplotlib.pyplot as plt\n",
        "\n",
        "\n",
        "# Standard Model\n",
        "plt.plot(history.history['acc'])\n",
        "plt.plot(history.history['val_acc'])\n",
        "plt.title('Standard Model Accuracy')\n",
        "plt.ylabel('Accuracy')\n",
        "plt.xlabel('Epoch')\n",
        "plt.legend(['Train', 'Test'], loc='upper left')\n",
        "plt.show()\n",
        "\n",
        "# Added-Layer Model\n",
        "plt.plot(history_add.history['acc'])\n",
        "plt.plot(history_add.history['val_acc'])\n",
        "plt.title('Added Layer Model Accuracy')\n",
        "plt.ylabel('Accuracy')\n",
        "plt.xlabel('Epoch')\n",
        "plt.legend(['Train', 'Test'], loc='upper left')\n",
        "plt.show()\n",
        "\n",
        "# Image Generator Model\n",
        "plt.plot(history_gen.history['acc'])\n",
        "plt.plot(history_gen.history['val_acc'])\n",
        "plt.title('Image Generator Model Accuracy')\n",
        "plt.ylabel('Accuracy')\n",
        "plt.xlabel('Epoch')\n",
        "plt.legend(['Train', 'Test'], loc='upper left')\n",
        "plt.show()\n",
        "\n",
        "# Image Generator + Added Layer Model\n",
        "plt.plot(history_gen_add.history['acc'])\n",
        "plt.plot(history_gen_add.history['val_acc'])\n",
        "plt.title('Image Generator + Added Layer Model Accuracy')\n",
        "plt.ylabel('Accuracy')\n",
        "plt.xlabel('Epoch')\n",
        "plt.legend(['Train', 'Test'], loc='upper left')\n",
        "plt.show()"
      ],
      "execution_count": 0,
      "outputs": []
    }
  ]
}