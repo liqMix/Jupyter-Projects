{
  "nbformat": 4,
  "nbformat_minor": 0,
  "metadata": {
    "colab": {
      "name": "CS445 - HW #3.ipynb",
      "version": "0.3.2",
      "provenance": [],
      "collapsed_sections": [
        "083RxK-hF31a",
        "5EfeJdZWRCvF",
        "HOUQgCrAnA-H",
        "5V3xEHp2jFVq"
      ]
    },
    "kernelspec": {
      "name": "python3",
      "display_name": "Python 3"
    }
  },
  "cells": [
    {
      "cell_type": "markdown",
      "metadata": {
        "id": "Cz8vbwweFapE",
        "colab_type": "text"
      },
      "source": [
        "#SVM - Classifying Spam\n",
        "## Brady Young\n",
        "\n",
        "---\n"
      ]
    },
    {
      "cell_type": "markdown",
      "metadata": {
        "id": "083RxK-hF31a",
        "colab_type": "text"
      },
      "source": [
        "## Modules"
      ]
    },
    {
      "cell_type": "code",
      "metadata": {
        "id": "iAvkE3zzFphP",
        "colab_type": "code",
        "colab": {}
      },
      "source": [
        "from sklearn import preprocessing #Create standardized scaler to apply to train and test data\n",
        "from sklearn import svm           #The core SVM module\n",
        "from sklearn import exceptions    #Exceptions specific to sklearn\n",
        "from sklearn import metrics       #Used to grab SVM's performance on test data\n",
        "import numpy as np                #Used for array operations\n",
        "import math                       #Used for floor\n",
        "import requests                   #Used to download dataset\n",
        "import sys                        #Used to format printing\n",
        "import os                         #Used to manage filesystem\n",
        "import matplotlib.pyplot as plt   #Used to plot data        \n",
        "import warnings                   #Manage warning display\n",
        "import random                     #Grab N random samples from a population"
      ],
      "execution_count": 0,
      "outputs": []
    },
    {
      "cell_type": "markdown",
      "metadata": {
        "id": "QxrLhFTBGxZx",
        "colab_type": "text"
      },
      "source": [
        "##Data Acquisition, Preprocessing, and Plotting"
      ]
    },
    {
      "cell_type": "code",
      "metadata": {
        "id": "4brx7WufRcJ0",
        "colab_type": "code",
        "colab": {}
      },
      "source": [
        "#Creates directory for writing data files\n",
        "if(os.path.isdir('data') == False):\n",
        "  os.makedirs('data')\n",
        "  \n",
        "#Writes dataset and remote location to local files\n",
        "link = 'https://archive.ics.uci.edu/ml/machine-learning-databases/spambase/spambase.data'\n",
        "r = requests.get(link)\n",
        "with open('data/spambase.data', 'wb') as file:\n",
        "  file.write(r.content)"
      ],
      "execution_count": 0,
      "outputs": []
    },
    {
      "cell_type": "markdown",
      "metadata": {
        "id": "BEU9hJ4ZfMri",
        "colab_type": "text"
      },
      "source": [
        "### Dataset"
      ]
    },
    {
      "cell_type": "code",
      "metadata": {
        "id": "38P47I-WfMIO",
        "colab_type": "code",
        "colab": {}
      },
      "source": [
        "#A wrapper to process the dataset after reading\n",
        "class Dataset:\n",
        "  def __init__(self, file):\n",
        "    self.trainset = []\n",
        "    self.testset = []\n",
        "    self.goalset = []\n",
        "    self.testgoalset = []\n",
        "    \n",
        "    self.load(file)\n",
        "    self.process()\n",
        "    self.scale()\n",
        "\n",
        "  #Copies the data into memory\n",
        "  def load(self, file):\n",
        "    with open('data/spambase.data', mode='r') as file:\n",
        "      self.fileIn = file.read()\n",
        "    \n",
        "  def process(self):\n",
        "    halfSetLen = math.floor(len(self.fileIn)/2)\n",
        "    featureSets = self.fileIn.split(\"\\n\")\n",
        "    \n",
        "    for i in range(len(featureSets)):\n",
        "      featureSets[i] = str(featureSets[i])\n",
        "      self.trainset.append(featureSets[i].split(\",\"))\n",
        "      self.goalset.append(self.trainset[-1].pop(-1))\n",
        "      \n",
        "      if((i%2) == 0):\n",
        "        self.testset.append(featureSets[i+1].split(\",\"))\n",
        "        self.testgoalset.append(self.testset[-1].pop(-1))\n",
        "    \n",
        "    self.trainset.pop(-1)\n",
        "    self.testset.pop(-1)\n",
        "    self.goalset.pop(-1)\n",
        "    self.testgoalset.pop(-1)\n",
        "    self.trainset = np.array(self.trainset, 'float64')\n",
        "    self.testset = np.array(self.testset, 'float64')\n",
        "    self.goalset = np.array(self.goalset, 'float64')\n",
        "    self.testgoalset = np.array(self.testgoalset, 'float64')\n",
        "    \n",
        "  def scale(self):\n",
        "    scale = preprocessing.StandardScaler().fit(self.trainset)\n",
        "    scale.transform(self.trainset)\n",
        "    scale.transform(self.testset)\n",
        "    self.remove(scale)\n",
        "    \n",
        "  def remove(self, scale):\n",
        "    for d in self.trainset:\n",
        "      for i in range(len(d)):\n",
        "        if(scale.var_[i] == 0):\n",
        "          d[i] = 0\n",
        "    for d in self.testset:\n",
        "      for i in range(len(d)):\n",
        "        if(scale.var_[i] == 0):\n",
        "          d[i] = 0\n",
        "    \n",
        "# Instantiates the dataset\n",
        "dataset = Dataset(file)"
      ],
      "execution_count": 0,
      "outputs": []
    },
    {
      "cell_type": "markdown",
      "metadata": {
        "id": "5EfeJdZWRCvF",
        "colab_type": "text"
      },
      "source": [
        "###Plotting"
      ]
    },
    {
      "cell_type": "code",
      "metadata": {
        "id": "Q806TR9PRIlB",
        "colab_type": "code",
        "colab": {}
      },
      "source": [
        "def plot_roc(svm):\n",
        "  plt.figure()\n",
        "  lw = 1\n",
        "  plt.plot(svm.fpr, svm.tpr, color='darkorange',\n",
        "         lw=lw, label='ROC curve (area = %0.2f)' % svm.auc)\n",
        "  plt.plot([0, 1], [0, 1], color='navy', lw=lw, linestyle='--')\n",
        "  plt.xlim([0.0, 1.0])\n",
        "  plt.ylim([0.0, 1.05])\n",
        "  plt.xlabel('False Positive Rate')\n",
        "  plt.ylabel('True Positive Rate')\n",
        "  plt.title('ROC Curve')\n",
        "  plt.legend(loc=\"lower right\")\n",
        "  plt.show()\n",
        "\n",
        "def plot_acc(accuracies):\n",
        "  plt.figure()\n",
        "  lw = 2\n",
        "  m = range(0, len(accuracies))\n",
        "  plt.plot(m, accuracies, color='darkorange',\n",
        "         lw=lw, label='Accuracy')\n",
        "  plt.plot([0, 1], [0, 1], color='navy', lw=lw, linestyle='--')\n",
        "  plt.xlim([2, len(accuracies)])\n",
        "  plt.ylim([0.0, 1.05])\n",
        "  plt.xlabel('Number of Features')\n",
        "  plt.ylabel('Accuracy')\n",
        "  plt.show()\n",
        "  print(\"Max Accuracy: \", max(accuracies), \"Avg: \", sum(accuracies)/len(accuracies) )"
      ],
      "execution_count": 0,
      "outputs": []
    },
    {
      "cell_type": "markdown",
      "metadata": {
        "id": "HOUQgCrAnA-H",
        "colab_type": "text"
      },
      "source": [
        "## SVM"
      ]
    },
    {
      "cell_type": "code",
      "metadata": {
        "id": "JNMslfBwnAQd",
        "colab_type": "code",
        "colab": {}
      },
      "source": [
        "class SVM:\n",
        "  def __init__(self, dataset):\n",
        "    self.data = dataset\n",
        "    self.linear = svm.LinearSVC()\n",
        "    self.trainset = []\n",
        "    self.testset = []\n",
        "    \n",
        "  def run(self, features = []):\n",
        "    if (len(features) == 0):\n",
        "        features = list(range(len(self.data.testset[0])))\n",
        "        \n",
        "    for d in self.data.trainset:\n",
        "      vector = []\n",
        "      for i in range(len(features)):\n",
        "        vector.append(d[features[i]])\n",
        "      self.trainset.append(vector)\n",
        "    \n",
        "    for d in self.data.testset:\n",
        "      vector = []\n",
        "      for i in range(len(features)):\n",
        "        vector.append(d[features[i]])\n",
        "      self.testset.append(vector)\n",
        "      \n",
        "    self.train()\n",
        "    self.test()\n",
        "    \n",
        "  def train(self):\n",
        "    #Ignores specific warning arising from convergence\n",
        "    warnings.filterwarnings(\"ignore\", category=exceptions.ConvergenceWarning)\n",
        "    self.linear.fit(self.trainset, self.data.goalset)\n",
        "  \n",
        "  def test(self):\n",
        "    predict = self.linear.predict(self.testset)\n",
        "    decision = self.linear.decision_function(self.testset)\n",
        "\n",
        "    #Ignores specific warning arising from no predictions\n",
        "    warnings.filterwarnings(\"ignore\", category=exceptions.UndefinedMetricWarning)\n",
        "    \n",
        "    self.accuracy = metrics.accuracy_score(self.data.testgoalset, predict)\n",
        "    self.precision = metrics.precision_score(self.data.testgoalset, predict)\n",
        "    self.recall = metrics.recall_score(self.data.testgoalset, predict)\n",
        "    \n",
        "    self.fpr, self.tpr, _ = metrics.roc_curve(self.data.testgoalset, decision)\n",
        "    self.auc = metrics.roc_auc_score(self.data.testgoalset, predict)\n",
        "\n",
        "  def print_results(self):\n",
        "    print(\"Accuracy: \", self.accuracy, \\\n",
        "      \"Precision: \", self.precision, \\\n",
        "      \"Recall: \", self.recall)"
      ],
      "execution_count": 0,
      "outputs": []
    },
    {
      "cell_type": "markdown",
      "metadata": {
        "id": "bF6qP8BQ-9zB",
        "colab_type": "text"
      },
      "source": [
        "##Experiment One"
      ]
    },
    {
      "cell_type": "code",
      "metadata": {
        "id": "QM4ZA4lmuxyo",
        "colab_type": "code",
        "outputId": "f705271d-53f1-4f99-f342-81a93066af44",
        "colab": {
          "base_uri": "https://localhost:8080/",
          "height": 393
        }
      },
      "source": [
        "linearSVM = SVM(dataset)\n",
        "linearSVM.run()\n",
        "plot_roc(linearSVM)\n",
        "linearSVM.print_results()"
      ],
      "execution_count": 0,
      "outputs": [
        {
          "output_type": "display_data",
          "data": {
            "image/png": "[encoded data removed]",
            "text/plain": [
              "<Figure size 576x396 with 1 Axes>"
            ]
          },
          "metadata": {
            "tags": []
          }
        },
        {
          "output_type": "stream",
          "text": [
            "Accuracy:  0.8626086956521739 Precision:  0.7746741154562383 Recall:  0.9183222958057395\n"
          ],
          "name": "stdout"
        }
      ]
    },
    {
      "cell_type": "markdown",
      "metadata": {
        "id": "OslFRs-VhWfE",
        "colab_type": "text"
      },
      "source": [
        "For this project I used the scikit-learn package to create the SVM and preprocess the input data."
      ]
    },
    {
      "cell_type": "markdown",
      "metadata": {
        "id": "xQLxP8ji-__l",
        "colab_type": "text"
      },
      "source": [
        "## Experiment Two"
      ]
    },
    {
      "cell_type": "markdown",
      "metadata": {
        "id": "wEpt1Qxri-7B",
        "colab_type": "text"
      },
      "source": [
        "### Weight Vector"
      ]
    },
    {
      "cell_type": "code",
      "metadata": {
        "id": "fSUpWlhsjC05",
        "colab_type": "code",
        "outputId": "0beacc25-4406-4f08-e440-8299ae9ceebb",
        "colab": {
          "base_uri": "https://localhost:8080/",
          "height": 187
        }
      },
      "source": [
        "weights = linearSVM.linear.coef_\n",
        "print(weights)"
      ],
      "execution_count": 0,
      "outputs": [
        {
          "output_type": "stream",
          "text": [
            "[[-0.09230522 -0.01224889  0.01398819  0.30366414  0.10574054  0.06017254\n",
            "   0.77169614  0.19805535 -0.02284791 -0.01423384  0.0863804  -0.01722679\n",
            "  -0.05993933 -0.02870938 -0.00164192  0.2952751   0.36073408  0.12243668\n",
            "   0.04802245  0.42156222  0.03345846 -0.06413105  0.31535299  0.0674276\n",
            "  -0.36609239 -0.00952286 -0.79575481  0.08054677 -0.45800797 -0.88725486\n",
            "  -0.28486941 -0.07139645 -0.07108003 -0.04214688 -0.5383509   0.17269864\n",
            "  -0.03139007 -0.15970145 -0.29195766 -0.05438864 -0.28206245 -0.60951013\n",
            "  -0.30009775 -0.51316737 -0.27184433 -0.40701683 -0.45667623 -0.52224524\n",
            "  -0.13715998 -0.16600298 -0.29172407  0.11417718  1.46968356  0.34640628\n",
            "   0.05562224  0.00736554 -0.01342965]]\n"
          ],
          "name": "stdout"
        }
      ]
    },
    {
      "cell_type": "markdown",
      "metadata": {
        "id": "5V3xEHp2jFVq",
        "colab_type": "text"
      },
      "source": [
        "### Feature Selection"
      ]
    },
    {
      "cell_type": "code",
      "metadata": {
        "id": "_jNj5R-0_CDO",
        "colab_type": "code",
        "colab": {}
      },
      "source": [
        "accuracies = []\n",
        "topFeatures = np.argsort(weights)[0][::-1]\n",
        "for i in range(2, len(linearSVM.testset[0])):\n",
        "  featuresToUse = topFeatures[:i]\n",
        "  mSVM = SVM(dataset)\n",
        "  mSVM.run(featuresToUse)\n",
        "  accuracies.append(mSVM.accuracy)"
      ],
      "execution_count": 0,
      "outputs": []
    },
    {
      "cell_type": "markdown",
      "metadata": {
        "id": "nG1SYsyd9o3E",
        "colab_type": "text"
      },
      "source": [
        "### Plot"
      ]
    },
    {
      "cell_type": "code",
      "metadata": {
        "id": "fOgYf6z-9lZ7",
        "colab_type": "code",
        "outputId": "a3956c82-1e89-49a7-cea5-685f1b4232ce",
        "colab": {
          "base_uri": "https://localhost:8080/",
          "height": 378
        }
      },
      "source": [
        "plot_acc(accuracies)"
      ],
      "execution_count": 0,
      "outputs": [
        {
          "output_type": "display_data",
          "data": {
            "image/png": "[encoded data removed]",
            "text/plain": [
              "<Figure size 576x396 with 1 Axes>"
            ]
          },
          "metadata": {
            "tags": []
          }
        },
        {
          "output_type": "stream",
          "text": [
            "Max Accuracy:  0.8934782608695652 Avg:  0.8115573122529645\n"
          ],
          "name": "stdout"
        }
      ]
    },
    {
      "cell_type": "markdown",
      "metadata": {
        "id": "0tqoVyGW9vHm",
        "colab_type": "text"
      },
      "source": [
        "### Top Features"
      ]
    },
    {
      "cell_type": "code",
      "metadata": {
        "id": "evy5VWycKKt7",
        "colab_type": "code",
        "outputId": "a5af8e5f-273f-479e-ad3f-3ad6c6481154",
        "colab": {
          "base_uri": "https://localhost:8080/",
          "height": 34
        }
      },
      "source": [
        "topFiveFeatures = np.argsort(weights)[0][::-1][:5]\n",
        "print(topFiveFeatures)"
      ],
      "execution_count": 0,
      "outputs": [
        {
          "output_type": "stream",
          "text": [
            "[52  6 19 16 53]\n"
          ],
          "name": "stdout"
        }
      ]
    },
    {
      "cell_type": "markdown",
      "metadata": {
        "id": "h5PViIeDKQD7",
        "colab_type": "text"
      },
      "source": [
        "**Feature 52:** Frequency of character \"!\" <br>\n",
        "**Feature 6:** Frequency of word \"over\" <br>\n",
        "**Feature 19:** Frequency of word \"you\" <br>\n",
        "**Feature 16:** Frequency of word \"free\" <br>\n",
        "**Feature 53:** Frequency of character \"$\" <br>\n",
        "\n",
        "The highest weighted features are not surprising given the usual intent of spam: to obtain money from the receipient. In spam e-mails, it is common to observe exclamation points in quite long sequences in order to communicate emergency or excitement, so its presence as the most weight feature is expectable.\n",
        "\n",
        "Selecting a subset of features containing the highest weighted features resulted in lower-dimensional support vectors. As the number of features grew, the dimensionality of the vectors increased, leading to more nuance in its classification ability. Surprisingly, it only takes the presence of one feature to correctly discriminate just over 80\\% of the test cases. Additionally surprising,  certain features seem to impair the accuracy of the SVM. Perhaps the features that decrease the accuracy are not linearly separable and require something more complex than a linear kernel. As an additional experiment, I created a SVM that uses only the weights that resulted in an increase in accuracy.\n",
        "\n"
      ]
    },
    {
      "cell_type": "markdown",
      "metadata": {
        "id": "j_EQATj7w-V4",
        "colab_type": "text"
      },
      "source": [
        "### Extra"
      ]
    },
    {
      "cell_type": "code",
      "metadata": {
        "id": "Nl_KJxaywDcj",
        "colab_type": "code",
        "outputId": "9e5ea874-da78-4f92-ba2e-2e0fe6207980",
        "colab": {
          "base_uri": "https://localhost:8080/",
          "height": 393
        }
      },
      "source": [
        "onlyBest = []\n",
        "onlyBest.append(topFeatures[0])\n",
        "onlyBest.append(topFeatures[1])\n",
        "for i in range(2, len(accuracies)):\n",
        "  if(accuracies[i] > accuracies[i-1]):\n",
        "    onlyBest.append(topFeatures[i])\n",
        "     \n",
        "bestSVM = SVM(dataset)\n",
        "bestSVM.run(onlyBest)\n",
        "plot_roc(bestSVM)\n",
        "bestSVM.print_results()"
      ],
      "execution_count": 0,
      "outputs": [
        {
          "output_type": "display_data",
          "data": {
            "image/png": "[encoded data removed]",
            "text/plain": [
              "<Figure size 576x396 with 1 Axes>"
            ]
          },
          "metadata": {
            "tags": []
          }
        },
        {
          "output_type": "stream",
          "text": [
            "Accuracy:  0.8765217391304347 Precision:  0.9081364829396326 Recall:  0.7637969094922737\n"
          ],
          "name": "stdout"
        }
      ]
    },
    {
      "cell_type": "markdown",
      "metadata": {
        "id": "vaBSzU5gI4OR",
        "colab_type": "text"
      },
      "source": [
        "## Experiment Three"
      ]
    },
    {
      "cell_type": "code",
      "metadata": {
        "id": "ba5iQ9F4I58w",
        "colab_type": "code",
        "outputId": "080b0bbe-082b-4352-8cb8-2562f45588ec",
        "colab": {
          "base_uri": "https://localhost:8080/",
          "height": 378
        }
      },
      "source": [
        "weights = linearSVM.linear.coef_\n",
        "accuracies = []\n",
        "numFeatures = len(linearSVM.testset[0])\n",
        "for i in range(2, numFeatures):\n",
        "  featuresToUse = random.sample(range(numFeatures), i)\n",
        "  mSVM = SVM(dataset)\n",
        "  mSVM.run(featuresToUse)\n",
        "  accuracies.append(mSVM.accuracy)\n",
        "plot_acc(accuracies)"
      ],
      "execution_count": 0,
      "outputs": [
        {
          "output_type": "display_data",
          "data": {
            "image/png": "[encoded data removed]",
            "text/plain": [
              "<Figure size 576x396 with 1 Axes>"
            ]
          },
          "metadata": {
            "tags": []
          }
        },
        {
          "output_type": "stream",
          "text": [
            "Max Accuracy:  0.9121739130434783 Avg:  0.8060395256916996\n"
          ],
          "name": "stdout"
        }
      ]
    },
    {
      "cell_type": "markdown",
      "metadata": {
        "id": "2PTKhPcmXALJ",
        "colab_type": "text"
      },
      "source": [
        "Randomly choosing which features to train the SVM with seems to produce less accurate models on average, yet do result in producing a model that has better accuracy than the previous experiment. It seems particular sets of features produce higher accuracies than the previous network. Even compared to the extra network that only kept features that increased the accuracy, a randomized feature set produced more accurate results. Certain permutations of features may contain more or less linearly separable features, leading to a wide variance in their accuracies. From here, sampling additional features using an initial feature set of highest accuracy result of this experiment might produce better models."
      ]
    }
  ]
}