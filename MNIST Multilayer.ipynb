{
  "nbformat": 4,
  "nbformat_minor": 0,
  "metadata": {
    "colab": {
      "name": "CS445 - HW2.ipynb",
      "version": "0.3.2",
      "provenance": [],
      "collapsed_sections": [
        "O-zi0Mgsr1iW",
        "083RxK-hF31a",
        "QxrLhFTBGxZx",
        "jZSz3ysgHbDu",
        "_LwdqYpRHeW-",
        "kmrE71UwHqnP",
        "BEU9hJ4ZfMri",
        "5EfeJdZWRCvF",
        "bFFL3a6PHxTx",
        "UZIXt5rq9R-z",
        "OiOxAr-K9V-e",
        "SaAh_bVq9jH1",
        "Y948UZPdJoIn",
        "lIfi7ysBJ8Aj",
        "89TuItz16GbM",
        "PMnDWOtXRrNW",
        "ciD4czM_J7gM",
        "oeUSZJYtVmR5",
        "hCZVvQRMJ7Dy",
        "rq9rf6UQVrHs",
        "F4zpzXDhV-BV",
        "O3klT8IJJ3j2",
        "ADEq4LURUEL-",
        "1G-iDnDuWJoH",
        "_kz56BZKCRD6",
        "zexQPhYDWO3m",
        "WxzJ9t_4YLUV",
        "2Xzfo1Sqw5sS",
        "xAMN8dzAWaI7",
        "smfUlCnFQsIW",
        "mhZ1gohkVUGd",
        "Q992jZ3sVZPJ",
        "cwS0rH40YCAK",
        "PQ-AqFArY6g4",
        "q6Vk5TnFZI-p",
        "Hyuz-j2kW9m6"
      ]
    },
    "kernelspec": {
      "name": "python3",
      "display_name": "Python 3"
    }
  },
  "cells": [
    {
      "cell_type": "markdown",
      "metadata": {
        "id": "Cz8vbwweFapE",
        "colab_type": "text"
      },
      "source": [
        "#MNIST Multilayer Network - Brady Young\n",
        "---\n",
        "\n"
      ]
    },
    {
      "cell_type": "markdown",
      "metadata": {
        "id": "O-zi0Mgsr1iW",
        "colab_type": "text"
      },
      "source": [
        "##Description"
      ]
    },
    {
      "cell_type": "markdown",
      "metadata": {
        "id": "KDoXbOYar8rH",
        "colab_type": "text"
      },
      "source": [
        "For this assignment, I added an additional layer to the existing perceptron network established in the first assignment. This \"hidden\" layer links the set of inputs to the set of output classifiers. This layer also allows the network to recognize the effect interdependence between inputs has on the output. While the single layer perceptron network classified numerals only based on the direct features of the input, the hidden layer can identify possible emergent features. \n",
        "\n",
        "Due to the varied structure of handwritten characters, there are multiple ways of drawing any one numeral. If a certain pixel is only present in 25% of a certain numerals feature set then that will lead to less weight towards that specific pixel, even though a quarter of the feature sets for that numeral contain it. However, when the pixel can be placed in relation to the rest of the pixels, weighted associations can be made between them. If the pixel that occured 25% of the time also had a \"partner\" pixel that only occured when it did, you can ignore all the feature sets that have the first pixel but not the second.\n",
        "\n",
        "This advantage resulted in a higher classification accuracy than the perceptron network when it was applied to the same dataset. I have constructed several networks with various hyperparameter values in order to determine their effect on the network's performance.\n",
        "\n",
        "---\n"
      ]
    },
    {
      "cell_type": "markdown",
      "metadata": {
        "id": "083RxK-hF31a",
        "colab_type": "text"
      },
      "source": [
        "## Modules"
      ]
    },
    {
      "cell_type": "code",
      "metadata": {
        "id": "iAvkE3zzFphP",
        "colab_type": "code",
        "colab": {}
      },
      "source": [
        "import numpy as np              #Used for array operations\n",
        "import math                     #Used for exponent in sigmoid activation\n",
        "import time                     #Used to benchmark training\n",
        "import csv                      #Used for import dataset\n",
        "import requests                 #Used to download dataset\n",
        "import sys                      #Used to format printing\n",
        "import os                       #Used to manage filesystem\n",
        "import matplotlib.pyplot as plt #Used to plot data"
      ],
      "execution_count": 0,
      "outputs": []
    },
    {
      "cell_type": "markdown",
      "metadata": {
        "id": "QxrLhFTBGxZx",
        "colab_type": "text"
      },
      "source": [
        "##Data Acquistion, Preprocessing, and Plotting"
      ]
    },
    {
      "cell_type": "markdown",
      "metadata": {
        "id": "jZSz3ysgHbDu",
        "colab_type": "text"
      },
      "source": [
        "###System"
      ]
    },
    {
      "cell_type": "code",
      "metadata": {
        "id": "7JsDvQKqG3av",
        "colab_type": "code",
        "colab": {}
      },
      "source": [
        "#Creates directory for writing data files\n",
        "if(os.path.isdir('data') == False):\n",
        "  os.makedirs('data')"
      ],
      "execution_count": 0,
      "outputs": []
    },
    {
      "cell_type": "markdown",
      "metadata": {
        "id": "_LwdqYpRHeW-",
        "colab_type": "text"
      },
      "source": [
        "###Remote Files"
      ]
    },
    {
      "cell_type": "code",
      "metadata": {
        "id": "4brx7WufRcJ0",
        "colab_type": "code",
        "colab": {}
      },
      "source": [
        "#Writes both training dataset and test dataset from\n",
        "#remote location to local files\n",
        "\n",
        "if(os.path.isfile('data/mnist_train.csv') == False):\n",
        "  link = 'http://web.cecs.pdx.edu/~mm/MachineLearningWinter2019/mnist_train.csv'\n",
        "  r = requests.get(link)\n",
        "  with open('data/mnist_train.csv', 'wb') as file:\n",
        "    file.write(r.content)\n",
        "  \n",
        "  link = 'http://web.cecs.pdx.edu/~mm/MachineLearningWinter2019/mnist_test.csv'\n",
        "  r = requests.get(link)\n",
        "  with open('data/mnist_test.csv', 'wb') as file:\n",
        "      file.write(r.content)"
      ],
      "execution_count": 0,
      "outputs": []
    },
    {
      "cell_type": "markdown",
      "metadata": {
        "id": "kmrE71UwHqnP",
        "colab_type": "text"
      },
      "source": [
        "### Reading in Data"
      ]
    },
    {
      "cell_type": "code",
      "metadata": {
        "id": "Ucxn690-RgU2",
        "colab_type": "code",
        "colab": {}
      },
      "source": [
        "#Copies the MNIST data into memory\n",
        "trainset_in = []\n",
        "testset_in = []\n",
        "\n",
        "with open('data/mnist_train.csv', mode='r') as file:\n",
        "  reader = csv.reader(file)\n",
        "  for row in reader:\n",
        "    trainset_in.append(row)\n",
        "                \n",
        "with open('data/mnist_test.csv', mode='r') as file:\n",
        "  reader = csv.reader(file)\n",
        "  for row in reader:\n",
        "    testset_in.append(row)"
      ],
      "execution_count": 0,
      "outputs": []
    },
    {
      "cell_type": "markdown",
      "metadata": {
        "id": "BEU9hJ4ZfMri",
        "colab_type": "text"
      },
      "source": [
        "### Dataset"
      ]
    },
    {
      "cell_type": "code",
      "metadata": {
        "id": "38P47I-WfMIO",
        "colab_type": "code",
        "colab": {}
      },
      "source": [
        "#A wrapper to process the dataset after reading\n",
        "class Dataset:\n",
        "  def __init__(self):\n",
        "    self.trainset = []\n",
        "    self.testset = []\n",
        "    self.goalset = []\n",
        "    self.testgoalset = []\n",
        "        \n",
        "    for x in trainset_in:\n",
        "      self.goalset.append(x.pop(0))               #Removes the goal from the list\n",
        "      features = np.array(x, dtype = 'float64')   #Converts the list to ndarray\n",
        "      features = features/255.0                   #Scales the inputs to [0,1]\n",
        "      self.trainset.append(np.append(features, 1))#Add the list to the training set\n",
        "                                                  #and the bias at the end\n",
        "    for x in testset_in:\n",
        "      self.testgoalset.append(x.pop(0))\n",
        "      features = np.array(x, dtype = 'float64')\n",
        "      features = features/255.0\n",
        "      self.testset.append(np.append(features, 1))\n",
        "\n",
        "# Instantiates the dataset\n",
        "dataset = Dataset()\n",
        "\n",
        "# Sets constant of output nodes\n",
        "NUM_OUTPUT = len(set(dataset.testgoalset))"
      ],
      "execution_count": 0,
      "outputs": []
    },
    {
      "cell_type": "markdown",
      "metadata": {
        "id": "5EfeJdZWRCvF",
        "colab_type": "text"
      },
      "source": [
        "###Plotting"
      ]
    },
    {
      "cell_type": "code",
      "metadata": {
        "id": "Q806TR9PRIlB",
        "colab_type": "code",
        "colab": {}
      },
      "source": [
        "def plot(network):\n",
        "  f = plt.figure(figsize=(25,6))\n",
        "  ax1 = plt.subplot2grid((9, 5), (0, 0), colspan=5)\n",
        "  ax2 = plt.subplot2grid((9, 5), (2, 0), colspan=3, rowspan=9)\n",
        "  ax3 = plt.subplot2grid((9, 5), (2, 3), colspan=3, rowspan=9)\n",
        "  \n",
        "  \n",
        "  ## Represents the characteristics of the specific network ##\n",
        "  cellHeight = 0.4\n",
        "  cellWidth = 0.2\n",
        "  rowLabel = list(\" \")\n",
        "  colLabel = list((\"Hidden Nodes\", \"Output Nodes\", \"Learning Rate\", \"Momentum\", \"Portion of Data\"))\n",
        "  \n",
        "  tableData = np.array(list(((NUM_HIDDEN), (10), (RATE), (MOMENTUM), (\"\".join((str(PORTION*100), \"%\"))))), ndmin=2)\n",
        "  \n",
        "  tb = ax1.table(cellText=tableData, rowLabels=rowLabel, colLabels=colLabel, loc=(0,0), cellLoc='center')\n",
        "  ax1.set_title(\"Network Attributes\", y=1.08)\n",
        "  tc = tb.properties()['child_artists']\n",
        "  for cell in tc: \n",
        "    cell.set_height(cellHeight)\n",
        "    cell.set_width(cellWidth)\n",
        "  \n",
        "  ax1.set_xticks([])\n",
        "  ax1.set_yticks([])\n",
        "\n",
        "  \n",
        "  ## Network Accuracy ##\n",
        "  ax2.set_title(\"Network Accuracy\")\n",
        "  x = list(range(NUM_EPOCHS))\n",
        "  trainValues = np.array(network.trainResults).astype(np.float)\n",
        "  testValues = np.array(network.testResults).astype(np.float)\n",
        "      \n",
        "  ax2.set_xlabel(\"Epoch\")\n",
        "  ax2.set_xlim(0, NUM_EPOCHS-1)\n",
        "  ax2.set_ylabel(\"Accuracy\")\n",
        "  ax2.set_ylim(0.8, 1)\n",
        "  \n",
        "  ax2.plot(x, trainValues, label='Training Acc.')\n",
        "  ax2.plot(x, testValues, label='Test Acc.')\n",
        "\n",
        "\n",
        "  trainAvg = \"%.5f\" % np.average(trainValues)\n",
        "  testAvg = \"%.5f\" % np.average(testValues)\n",
        "  \n",
        "  ax2.annotate(s=\"Avg. Training Acc: \" + str(trainAvg), xy=(25,0.81))\n",
        "  ax2.annotate(s=\"Avg. Test Acc: \" + str(testAvg), xy=(25,0.8))\n",
        "  ax2.annotate(s=\"Final Training Acc: \" + str(trainValues[NUM_EPOCHS-1]), xy=(40,0.81))\n",
        "  ax2.annotate(s=\"Final Test Acc: \" + str(testValues[NUM_EPOCHS-1]), xy=(40,0.8))\n",
        "  \n",
        "  \n",
        "  ## Confusion Matrix representing error rates for individual digits ##\n",
        "  cellHeight = 0.1\n",
        "  cellWidth = 0.1\n",
        "  rowLabel = list(range(10))\n",
        "  colLabel = rowLabel\n",
        "  colLabel.reverse()\n",
        "  \n",
        "  tb = ax3.table(cellText=network.confMat/50, rowLabels=rowLabel, colLabels=colLabel, loc=(0,0), cellLoc='center')\n",
        "  ax3.set_title(\"Confusion Matrix\", y=1.08)\n",
        "  tc = tb.properties()['child_artists']\n",
        "  for cell in tc: \n",
        "    cell.set_height(cellHeight)\n",
        "    cell.set_width(cellWidth)\n",
        "    \n",
        "  ax3.set_xlabel(\"Target\", labelpad = 5)\n",
        "  ax3.set_ylabel(\"Output\", labelpad = 5)\n",
        "  ax3.set_xticks([])\n",
        "  ax3.set_yticks([])\n",
        "\n",
        "  \n",
        "  plt.draw()\n",
        "  plt.show()\n",
        "  "
      ],
      "execution_count": 0,
      "outputs": []
    },
    {
      "cell_type": "markdown",
      "metadata": {
        "id": "bFFL3a6PHxTx",
        "colab_type": "text"
      },
      "source": [
        "## Network"
      ]
    },
    {
      "cell_type": "markdown",
      "metadata": {
        "id": "UZIXt5rq9R-z",
        "colab_type": "text"
      },
      "source": [
        "### Math"
      ]
    },
    {
      "cell_type": "code",
      "metadata": {
        "id": "TD6CHMjT9U5M",
        "colab_type": "code",
        "colab": {}
      },
      "source": [
        "# Sigmoid activation definition\n",
        "def sigmoid(x):\n",
        "  denom = 1 + math.exp(-x)\n",
        "  return 1 / denom"
      ],
      "execution_count": 0,
      "outputs": []
    },
    {
      "cell_type": "markdown",
      "metadata": {
        "id": "OiOxAr-K9V-e",
        "colab_type": "text"
      },
      "source": [
        "### Nodes"
      ]
    },
    {
      "cell_type": "code",
      "metadata": {
        "id": "xzhdCktO9eCc",
        "colab_type": "code",
        "colab": {}
      },
      "source": [
        "## Class to hold the data members of subclasses ##\n",
        "class Node:\n",
        "  def __init__(self, num, inputs):\n",
        "    self.weights = np.random.rand(num, inputs)\n",
        "    self.weights -= 0.5    # Scales the weights\n",
        "    self.activated = []    # List to hold activated values for each node\n",
        "    self.error = None      # Holds the error value for each node\n",
        "    self.prev = 0          # Holds the previous change to node weight\n",
        "\n",
        "\n",
        "    \n",
        "## Defines the node functions for the Hidden Layer ##\n",
        "class Hidden(Node):\n",
        "  \n",
        "  # Creates a list of each hidden node's activated values\n",
        "  def activation(self, array):\n",
        "    self.activated = []\n",
        "    for a in array:\n",
        "      self.activated.append(sigmoid(a))\n",
        "    self.activated.append(1)                    # attach bias\n",
        "    self.activated = np.array(self.activated) \n",
        "    \n",
        "  # Error calculation for hidden layer\n",
        "  #  -Calculates each nodes error based on output node error and current activations\n",
        "  #  -Sets the error for each node\n",
        "  #  -Removes the bias from activated list and error list\n",
        "  #    The bias is included up to the error calculation,\n",
        "  #    but is removed afterwards because the bias node value\n",
        "  #    will never be changed.\n",
        "  def calcError(self, output):\n",
        "    termTwo = (1 - self.activated)\n",
        "    termThree = output.weights * output.error.reshape((-1,1))\n",
        "\n",
        "    self.error = self.activated * termTwo * np.sum(termThree, axis=0)\n",
        "    self.activated = np.delete(self.activated, NUM_HIDDEN)  # bias removed\n",
        "    self.error = np.delete(self.error, NUM_HIDDEN)          # bias removed\n",
        "   \n",
        "  # Updates the weight values based on the error calculated, learning rate\n",
        "  # the amount it previously changed by, and the momentum.\n",
        "  def update(self, features):\n",
        "    change = RATE * np.outer(self.error, features)\n",
        "    self.weights += change + (MOMENTUM * self.prev)\n",
        "    self.prev = change\n",
        "    \n",
        "    \n",
        "    \n",
        "## Defines the node functions for the output layer ##\n",
        "class Output(Node):\n",
        "  \n",
        "  # Creates a list of each output node's activated values\n",
        "  def activation(self, array):\n",
        "    self.activated = []\n",
        "    for a in array:\n",
        "      self.activated.append(sigmoid(a))\n",
        "    self.activated = np.array(self.activated)\n",
        "  \n",
        "  \n",
        "  # Calculates error for output nodes\n",
        "  def calcError(self, target):\n",
        "    termTwo = (1 - self.activated)\n",
        "    termThree = (target - self.activated)\n",
        "    self.error = self.activated * termTwo * termThree\n",
        "    \n",
        "  # Updates the output node weights  \n",
        "  def update(self, inputs):\n",
        "    change = RATE * np.outer(self.error, inputs.activated)\n",
        "    self.weights += change + (MOMENTUM * self.prev)\n",
        "    self.prev = change"
      ],
      "execution_count": 0,
      "outputs": []
    },
    {
      "cell_type": "markdown",
      "metadata": {
        "id": "SaAh_bVq9jH1",
        "colab_type": "text"
      },
      "source": [
        "### Network"
      ]
    },
    {
      "cell_type": "code",
      "metadata": {
        "id": "OfLt4rH3IOKI",
        "colab_type": "code",
        "colab": {}
      },
      "source": [
        "## Controls the network functions and data ##\n",
        "class Network:\n",
        "    def __init__(self):\n",
        "      self.hidden = Hidden(NUM_HIDDEN, 785)\n",
        "      self.output = Output(NUM_OUTPUT, NUM_HIDDEN+1)\n",
        "      self.data = dataset\n",
        "      \n",
        "      self.trainResults = []      # Holds the results\n",
        "      self.testResults = []       # for each epoch\n",
        "      \n",
        "      self.confMat = np.zeros((NUM_OUTPUT, NUM_OUTPUT))\n",
        "    \n",
        "    \n",
        "    # Calls the training and testing functions\n",
        "    # for each epoch and appends the results\n",
        "    # to a list\n",
        "    def run(self):\n",
        "      start = time.clock()\n",
        "      \n",
        "      for i in range(NUM_EPOCHS):\n",
        "        trainAcc = \"%.5f\" % self.train(i)     #store the resulting accuracies\n",
        "        testAcc = \"%.5f\" % self.test(i)       #from training and testing\n",
        "        \n",
        "        print(\"\\r\", \"Epoch: \", i,\n",
        "              \"Training Accuracy:\", trainAcc, \n",
        "              \"Testing Accuracy\", testAcc, end=\"\")\n",
        "                          \n",
        "        self.trainResults.append(trainAcc)\n",
        "        self.testResults.append(testAcc)\n",
        "        \n",
        "      finish = time.clock() - start\n",
        "      print(\"\\nFinished in\", \"%.2f\" % finish, \"seconds.\")\n",
        "    \n",
        "    \n",
        "    # Iterates through the training set:\n",
        "    #   -Feeds the data through the network\n",
        "    #   -Updates the network weights\n",
        "    # Returns the accuracy       \n",
        "    def train(self, epoch):\n",
        "      correct = 0.0\n",
        "      iterations = 0.0\n",
        "      \n",
        "      # for each feature set in the training set v\n",
        "      for i in range(int(len(self.data.trainset) * PORTION)):\n",
        "        \n",
        "        train = self.data.trainset[i]       # grab the featureset\n",
        "        target = int(self.data.goalset[i])  # set the appropriate target class\n",
        "        \n",
        "        result = int(self.feed(train))      # feed the input through network\n",
        "                                            # store the resulting output class\n",
        "        if(result == target):\n",
        "          correct += 1\n",
        "        if(epoch != 0):                     # don't update values on first pass;\n",
        "          self.backprop(target, train)      # establishes basis for test set\n",
        "        iterations += 1\n",
        "        \n",
        "      return correct/iterations             # return the accuracy for that epoch\n",
        "    \n",
        "    \n",
        "    # Iterates through the test set:\n",
        "    #   -Feeds the data through the network\n",
        "    #   -Updates the confusion matrix\n",
        "    # Returns the accuracy\n",
        "    def test(self, epoch):\n",
        "      correct = 0.0\n",
        "      iterations = 0.0\n",
        "            \n",
        "      for i in range(len(self.data.testset)):\n",
        "        target = int(self.data.testgoalset[i])\n",
        "        test = self.data.testset[i]     \n",
        "        result = int(self.feed(test))\n",
        "  \n",
        "        if(result == target):\n",
        "          correct += 1\n",
        "        \n",
        "        self.confMat[target][result] += 1     # update the confusion matrix\n",
        "        iterations += 1\n",
        "        \n",
        "      return correct/iterations\n",
        "    \n",
        "    \n",
        "    # Feeds the inputs through the network   \n",
        "    def feed(self, inputs):\n",
        "      # Hidden Layer #\n",
        "      weights = self.hidden.weights * inputs     # multiply each weight by its associated input\n",
        "      sums = np.sum(weights, axis=1)             # sum the weighted input values\n",
        "      self.hidden.activation(sums)               # sets the hidden activation array \n",
        "                                                 # to activated values of summed weights   \n",
        "      # Output Layer #  \n",
        "      weights = self.output.weights * self.hidden.activated\n",
        "      sums = np.sum(weights, axis=1)\n",
        "      self.output.activation(sums)\n",
        "     \n",
        "      return np.argmax(self.output.activated)    # returns the index of largest value weight,\n",
        "                                                 # which is the predicted class of input\n",
        "      \n",
        "    # Updates the network's weights by calculating error and propogating\n",
        "    # the error backwards through the network    \n",
        "    def backprop(self, target, features):\n",
        "      targetArray = np.full(NUM_OUTPUT, 0.1)     # initializes array of target\n",
        "      targetArray[target] = 0.9                  # values to 0.1, sets goal to 0.9                                    \n",
        "      \n",
        "      # Output Layer #\n",
        "      self.output.calcError(targetArray)\n",
        "      self.output.update(self.hidden)    \n",
        "      \n",
        "      # Hidden Layer #\n",
        "      self.hidden.calcError(self.output)\n",
        "      self.hidden.update(features)"
      ],
      "execution_count": 0,
      "outputs": []
    },
    {
      "cell_type": "markdown",
      "metadata": {
        "id": "Y948UZPdJoIn",
        "colab_type": "text"
      },
      "source": [
        "## Execution and Results"
      ]
    },
    {
      "cell_type": "markdown",
      "metadata": {
        "id": "lIfi7ysBJ8Aj",
        "colab_type": "text"
      },
      "source": [
        "### Varying Number of Hidden Nodes\n",
        "The number of hidden nodes in the hidden layer directly affects the number of emergent (interdependant) features able to be recognized by the network. The more nodes in the layer, the more features can be correlated to certain classifications. Three networks were created with 10, 20, and 100 hidden nodes respectively. Each network runs for 50 epochs, has a learning rate of 0.1, and has a momentum of 0.9.\n",
        "\n",
        "---"
      ]
    },
    {
      "cell_type": "code",
      "metadata": {
        "id": "JvFQxuqso4VJ",
        "colab_type": "code",
        "colab": {}
      },
      "source": [
        "NUM_EPOCHS = 50\n",
        "RATE = 0.1\n",
        "MOMENTUM = 0.9\n",
        "PORTION = 1"
      ],
      "execution_count": 0,
      "outputs": []
    },
    {
      "cell_type": "markdown",
      "metadata": {
        "id": "89TuItz16GbM",
        "colab_type": "text"
      },
      "source": [
        "#### 10 Hidden Nodes"
      ]
    },
    {
      "cell_type": "code",
      "metadata": {
        "id": "sIvU8lZIXRUb",
        "colab_type": "code",
        "cellView": "both",
        "outputId": "4f64e0f8-76a5-4456-8df5-d9d18c0c342b",
        "colab": {
          "base_uri": "https://localhost:8080/",
          "height": 71
        }
      },
      "source": [
        "#@title  { output-height: 50 }\n",
        "NUM_HIDDEN = 10\n",
        "hidden10 = Network()\n",
        "hidden10.run()"
      ],
      "execution_count": 0,
      "outputs": [
        {
          "output_type": "stream",
          "text": [
            " Epoch:  49 Training Accuracy: 0.93528 Testing Accuracy 0.91460\n",
            "Finished in 450.52 seconds.\n"
          ],
          "name": "stdout"
        }
      ]
    },
    {
      "cell_type": "markdown",
      "metadata": {
        "id": "PMnDWOtXRrNW",
        "colab_type": "text"
      },
      "source": [
        "##### Plot"
      ]
    },
    {
      "cell_type": "code",
      "metadata": {
        "id": "OnoYIxzDXcJY",
        "colab_type": "code",
        "outputId": "aa305b18-cc65-4884-cdf4-3c105f222319",
        "colab": {
          "base_uri": "https://localhost:8080/",
          "height": 426
        }
      },
      "source": [
        "plot(hidden10)"
      ],
      "execution_count": 0,
      "outputs": [
        {
          "output_type": "display_data",
          "data": {
            "image/png": "[encoded data removed]",
            "text/plain": [
              "<Figure size 1800x432 with 3 Axes>"
            ]
          },
          "metadata": {
            "tags": []
          }
        }
      ]
    },
    {
      "cell_type": "markdown",
      "metadata": {
        "id": "ciD4czM_J7gM",
        "colab_type": "text"
      },
      "source": [
        "#### 20 Hidden Nodes"
      ]
    },
    {
      "cell_type": "code",
      "metadata": {
        "id": "2IZqcoYRzRDe",
        "colab_type": "code",
        "cellView": "both",
        "outputId": "204e0f57-35c1-4825-b9b0-a2321c25dd3c",
        "colab": {
          "base_uri": "https://localhost:8080/",
          "height": 54
        }
      },
      "source": [
        "#@title  { output-height: 50 }\n",
        "NUM_HIDDEN = 20\n",
        "hidden20 = Network()\n",
        "hidden20.run()"
      ],
      "execution_count": 0,
      "outputs": [
        {
          "output_type": "stream",
          "text": [
            "\r Epoch:  0 Training Accuracy: 0.08910 Testing Accuracy 0.09000"
          ],
          "name": "stdout"
        }
      ]
    },
    {
      "cell_type": "markdown",
      "metadata": {
        "id": "oeUSZJYtVmR5",
        "colab_type": "text"
      },
      "source": [
        "##### Plot"
      ]
    },
    {
      "cell_type": "code",
      "metadata": {
        "id": "tIxC65KlXuhk",
        "colab_type": "code",
        "colab": {}
      },
      "source": [
        "plot(hidden20)"
      ],
      "execution_count": 0,
      "outputs": []
    },
    {
      "cell_type": "markdown",
      "metadata": {
        "id": "hCZVvQRMJ7Dy",
        "colab_type": "text"
      },
      "source": [
        "#### 100 Hidden Nodes"
      ]
    },
    {
      "cell_type": "code",
      "metadata": {
        "id": "5dR6-xItRmd5",
        "colab_type": "code",
        "colab": {}
      },
      "source": [
        "#@title  { output-height: 50 }\n",
        "NUM_HIDDEN = 100\n",
        "hidden100 = Network()\n",
        "hidden100.run()"
      ],
      "execution_count": 0,
      "outputs": []
    },
    {
      "cell_type": "markdown",
      "metadata": {
        "id": "rq9rf6UQVrHs",
        "colab_type": "text"
      },
      "source": [
        "##### Plot"
      ]
    },
    {
      "cell_type": "code",
      "metadata": {
        "id": "9W3HW1jkXtCn",
        "colab_type": "code",
        "colab": {}
      },
      "source": [
        "plot(hidden100)"
      ],
      "execution_count": 0,
      "outputs": []
    },
    {
      "cell_type": "markdown",
      "metadata": {
        "id": "F4zpzXDhV-BV",
        "colab_type": "text"
      },
      "source": [
        "#### Summary"
      ]
    },
    {
      "cell_type": "markdown",
      "metadata": {
        "id": "f5A0_fwMLSsT",
        "colab_type": "text"
      },
      "source": [
        "From my testing it seems that the number of hidden nodes in a multilayer network is positively associated with the overall accuracy of the network. With each increase in hidden node amount the accuracy on the test set increased by about 3%. However, the effect of each added node diminishes as the number of hidden nodes grows. While the first 3% increase only required a doubling from the previous test, the next 3% required an increase of 500% in order to show the same effect.\n",
        "\n",
        "In regards to convergence, all the networks seemed to show the same amount of variance. \n",
        "If we assume that the network is converging towards the final accuracy value, then the difference between the final accuracy and the average can provide a rough estimate. However, all of the networks' average accuracies were 2% below the average, showing similar convergence.\n",
        "If we assume that the network is converging towards 100% accuracy, then networks with higher amounts of hidden nodes converge to 100% in less epochs than networks with smaller amounts.\n",
        "\n",
        "Each of the networks has overfit the data to some extent, as the accuracy on the test data is always less than the accuracy on the training data. \n",
        "\n",
        "Compared to the perceptron network, the accuracy of classification is much higher. The previous issue of misclassifying 9's is not a factor which has majorly increased accuracy. However, the addition of a hidden layer has affected the speed of training, with a larger hidden layer resulting in much longer processing times.\n",
        "\n",
        "---\n"
      ]
    },
    {
      "cell_type": "markdown",
      "metadata": {
        "id": "O3klT8IJJ3j2",
        "colab_type": "text"
      },
      "source": [
        "### Varying Momentum\n",
        "The momentum parameter is used to scale the previous change to a weight in order to adjust the effect of previous changes. A higher momentum value reduces the frequency of weight changes resulting in oscillating weight values. I created three networks with varying momentum values and compared the accuracy of their output. Each network has 100 hidden nodes, runs for 50 epochs, and has a learning rate of 0.1.\n",
        "\n",
        "---"
      ]
    },
    {
      "cell_type": "code",
      "metadata": {
        "id": "hTEzUUoMo_OI",
        "colab_type": "code",
        "colab": {}
      },
      "source": [
        "NUM_EPOCHS = 50\n",
        "NUM_HIDDEN = 100\n",
        "RATE = 0.1\n",
        "PORTION = 1"
      ],
      "execution_count": 0,
      "outputs": []
    },
    {
      "cell_type": "markdown",
      "metadata": {
        "id": "ADEq4LURUEL-",
        "colab_type": "text"
      },
      "source": [
        "#### 0 Momentum"
      ]
    },
    {
      "cell_type": "code",
      "metadata": {
        "id": "prDlhobhzaDg",
        "colab_type": "code",
        "colab": {}
      },
      "source": [
        "#@title  { output-height: 50 }\n",
        "MOMENTUM = 0.0\n",
        "zeroMom = Network()\n",
        "zeroMom.run()"
      ],
      "execution_count": 0,
      "outputs": []
    },
    {
      "cell_type": "markdown",
      "metadata": {
        "id": "1G-iDnDuWJoH",
        "colab_type": "text"
      },
      "source": [
        "##### Plot"
      ]
    },
    {
      "cell_type": "code",
      "metadata": {
        "id": "hNXzYa02QpLC",
        "colab_type": "code",
        "colab": {}
      },
      "source": [
        "plot(zeroMom)"
      ],
      "execution_count": 0,
      "outputs": []
    },
    {
      "cell_type": "markdown",
      "metadata": {
        "id": "_kz56BZKCRD6",
        "colab_type": "text"
      },
      "source": [
        "#### 0.5 Momentum"
      ]
    },
    {
      "cell_type": "code",
      "metadata": {
        "colab_type": "code",
        "id": "Ts5CX2ZYYSL5",
        "colab": {}
      },
      "source": [
        "#@title  { output-height: 50 }\n",
        "MOMENTUM = 0.5\n",
        "halfMom = Network()\n",
        "halfMom.run()"
      ],
      "execution_count": 0,
      "outputs": []
    },
    {
      "cell_type": "markdown",
      "metadata": {
        "id": "zexQPhYDWO3m",
        "colab_type": "text"
      },
      "source": [
        "##### Plot"
      ]
    },
    {
      "cell_type": "code",
      "metadata": {
        "colab_type": "code",
        "id": "6lUXTYIYYR8H",
        "colab": {}
      },
      "source": [
        "plot(halfMom)"
      ],
      "execution_count": 0,
      "outputs": []
    },
    {
      "cell_type": "markdown",
      "metadata": {
        "id": "WxzJ9t_4YLUV",
        "colab_type": "text"
      },
      "source": [
        "  #### 0.9 Momentum"
      ]
    },
    {
      "cell_type": "code",
      "metadata": {
        "id": "-rsy8_K9YOQz",
        "colab_type": "code",
        "colab": {}
      },
      "source": [
        "MOMENTUM = 0.9\n",
        "plot(hidden100)"
      ],
      "execution_count": 0,
      "outputs": []
    },
    {
      "cell_type": "markdown",
      "metadata": {
        "id": "2Xzfo1Sqw5sS",
        "colab_type": "text"
      },
      "source": [
        "#### 1 Momentum"
      ]
    },
    {
      "cell_type": "code",
      "metadata": {
        "id": "TuS7rTqXVsiJ",
        "colab_type": "code",
        "colab": {}
      },
      "source": [
        "#@title  { output-height: 50 }\n",
        "MOMENTUM = 1\n",
        "oneMom = Network()\n",
        "oneMom.run()"
      ],
      "execution_count": 0,
      "outputs": []
    },
    {
      "cell_type": "markdown",
      "metadata": {
        "id": "xAMN8dzAWaI7",
        "colab_type": "text"
      },
      "source": [
        "##### Plot"
      ]
    },
    {
      "cell_type": "code",
      "metadata": {
        "id": "XkZIHAHEWcFL",
        "colab_type": "code",
        "colab": {}
      },
      "source": [
        "plot(oneMom)"
      ],
      "execution_count": 0,
      "outputs": []
    },
    {
      "cell_type": "markdown",
      "metadata": {
        "id": "smfUlCnFQsIW",
        "colab_type": "text"
      },
      "source": [
        "#### Summary"
      ]
    },
    {
      "cell_type": "markdown",
      "metadata": {
        "id": "0lKtouUQQuk6",
        "colab_type": "text"
      },
      "source": [
        "Each of my networks had roughly identical accuracies, yet the averages reliably increased along with momentum value. \n",
        "The \n",
        "Networks with higher momentum values reinforce trends in the feature interactions and are more resistant to outlier effects.\n",
        "\n",
        "---"
      ]
    },
    {
      "cell_type": "markdown",
      "metadata": {
        "id": "mhZ1gohkVUGd",
        "colab_type": "text"
      },
      "source": [
        "### Varying Input Size\n",
        "The network can only accurately classify features it has properly integrated. If a given set of feature interactions is absent from the training data, yet is present in the test data, the network will struggle to classify the numeral. With smaller datasets there is a lack of feature diversity which can yield biased output towards undocumented features in the test data.\n",
        "Two networks were trained with subsets of the total training data, using a half and a quarter respectively. Each network runs for 50 epochs and has 100 hidden nodes,  a learning rate of 0.1, and a momentum of 0.9.\n",
        "\n",
        "\n",
        "---\n"
      ]
    },
    {
      "cell_type": "code",
      "metadata": {
        "id": "d-f6FJtLpqHg",
        "colab_type": "code",
        "colab": {}
      },
      "source": [
        "NUM_EPOCHS = 50\n",
        "NUM_HIDDEN = 100\n",
        "RATE = 0.1\n",
        "MOMENTUM = 0.9"
      ],
      "execution_count": 0,
      "outputs": []
    },
    {
      "cell_type": "markdown",
      "metadata": {
        "id": "Q992jZ3sVZPJ",
        "colab_type": "text"
      },
      "source": [
        "#### Half Dataset"
      ]
    },
    {
      "cell_type": "code",
      "metadata": {
        "id": "suoYYK54VYm1",
        "colab_type": "code",
        "colab": {}
      },
      "source": [
        "#@title  { output-height: 50 }\n",
        "PORTION = 0.5\n",
        "half = Network()\n",
        "half.run()"
      ],
      "execution_count": 0,
      "outputs": []
    },
    {
      "cell_type": "markdown",
      "metadata": {
        "id": "cwS0rH40YCAK",
        "colab_type": "text"
      },
      "source": [
        "##### Plot"
      ]
    },
    {
      "cell_type": "code",
      "metadata": {
        "id": "EZR6qdUaYKMc",
        "colab_type": "code",
        "colab": {}
      },
      "source": [
        "plot(half)"
      ],
      "execution_count": 0,
      "outputs": []
    },
    {
      "cell_type": "markdown",
      "metadata": {
        "id": "PQ-AqFArY6g4",
        "colab_type": "text"
      },
      "source": [
        "#### Quarter Dataset"
      ]
    },
    {
      "cell_type": "code",
      "metadata": {
        "id": "_MSUobCIY9os",
        "colab_type": "code",
        "colab": {}
      },
      "source": [
        "#@title  { output-height: 50 }\n",
        "PORTION = 0.25\n",
        "quarter = Network()\n",
        "quarter.run()"
      ],
      "execution_count": 0,
      "outputs": []
    },
    {
      "cell_type": "markdown",
      "metadata": {
        "id": "q6Vk5TnFZI-p",
        "colab_type": "text"
      },
      "source": [
        "##### Plot"
      ]
    },
    {
      "cell_type": "code",
      "metadata": {
        "id": "rgF56vTOZLHi",
        "colab_type": "code",
        "colab": {}
      },
      "source": [
        "plot(quarter)"
      ],
      "execution_count": 0,
      "outputs": []
    },
    {
      "cell_type": "markdown",
      "metadata": {
        "id": "Hyuz-j2kW9m6",
        "colab_type": "text"
      },
      "source": [
        "#### Summary"
      ]
    },
    {
      "cell_type": "markdown",
      "metadata": {
        "id": "2PTKhPcmXALJ",
        "colab_type": "text"
      },
      "source": [
        "As the size of the dataset used for training decreases, the ability of the network to accurately classify the test set also decreases. Networks training on small amounts of data will overfit the training set more than a network with a larger training set. \n",
        "\n",
        "Convergence of the test accuracy with the training accuracy gets worse as the training set shrinks and less features in the test set are represented."
      ]
    }
  ]
}